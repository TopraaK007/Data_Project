{
 "cells": [
  {
   "cell_type": "code",
   "execution_count": 1,
   "metadata": {},
   "outputs": [
    {
     "name": "stdout",
     "output_type": "stream",
     "text": [
      "Hello World\n"
     ]
    }
   ],
   "source": [
    "print(\"Hello World\")"
   ]
  },
  {
   "cell_type": "code",
   "execution_count": 2,
   "metadata": {},
   "outputs": [],
   "source": [
    "import pandas as pd\n",
    "import numpy as np\n",
    "import ipywidgets as widgets\n",
    "from io import StringIO\n",
    "import matplotlib.pyplot as plt\n",
    "%matplotlib inline"
   ]
  },
  {
   "cell_type": "code",
   "execution_count": 3,
   "metadata": {},
   "outputs": [
    {
     "data": {
      "application/vnd.jupyter.widget-view+json": {
       "model_id": "3de5d756fb83471c97e0ad3a401f860d",
       "version_major": 2,
       "version_minor": 0
      },
      "text/plain": [
       "Tab(children=(Label(value=''), Label(value=''), Label(value='')), selected_index=0, titles=('Upload', 'Describ…"
      ]
     },
     "execution_count": 3,
     "metadata": {},
     "output_type": "execute_result"
    }
   ],
   "source": [
    "tab=widgets.Tab()\n",
    "placeholder=widgets.Label()\n",
    "tab.children=[placeholder,placeholder,placeholder]\n",
    "tab.set_title(0,\"Upload\")\n",
    "tab.set_title(1,\"Describer\")\n",
    "tab.set_title(2,\"Plotter\")\n",
    "tab"
   ]
  },
  {
   "cell_type": "code",
   "execution_count": 4,
   "metadata": {},
   "outputs": [
    {
     "data": {
      "application/vnd.jupyter.widget-view+json": {
       "model_id": "ff5e9be8b22f4f95840523980180343c",
       "version_major": 2,
       "version_minor": 0
      },
      "text/plain": [
       "FileUpload(value=(), description='Upload')"
      ]
     },
     "execution_count": 4,
     "metadata": {},
     "output_type": "execute_result"
    }
   ],
   "source": [
    "up =widgets.FileUpload(\n",
    "    accept=\"\", #Dosya türü\n",
    "    multiple=False #Birden fazla dosyal yüklenebilir\n",
    ")\n",
    "up"
   ]
  },
  {
   "cell_type": "code",
   "execution_count": 5,
   "metadata": {},
   "outputs": [
    {
     "data": {
      "application/vnd.jupyter.widget-view+json": {
       "model_id": "3de5d756fb83471c97e0ad3a401f860d",
       "version_major": 2,
       "version_minor": 0
      },
      "text/plain": [
       "Tab(children=(FileUpload(value=(), description='Upload'), Output(layout=Layout(border_bottom='1px solid black'…"
      ]
     },
     "execution_count": 5,
     "metadata": {},
     "output_type": "execute_result"
    }
   ],
   "source": [
    "#output widgets çıktı ekranı\n",
    "out=widgets.Output(layout=({\"border\":\"1px solid black\"})) #çıktı ekranında siyah çizgi\n",
    "tab.children=[up,out,out]\n",
    "tab"
   ]
  },
  {
   "cell_type": "code",
   "execution_count": 6,
   "metadata": {},
   "outputs": [
    {
     "data": {
      "application/vnd.jupyter.widget-view+json": {
       "model_id": "67af2d154bf2484bac953dcdb5f3b901",
       "version_major": 2,
       "version_minor": 0
      },
      "text/plain": [
       "SelectMultiple(description='Eraser', index=(0,), options=('tab', '\"'), value=('tab',))"
      ]
     },
     "execution_count": 6,
     "metadata": {},
     "output_type": "execute_result"
    }
   ],
   "source": [
    "#selectmultiple widgets çoklu seçim\n",
    "eraser=widgets.SelectMultiple(\n",
    "    options=[\"tab\",'\"'], #seçekler\n",
    "    disabled=False,  #etkin yapar\n",
    "    description=\"Eraser\", #tanım\n",
    "    value=[\"tab\"] #seçili değer\n",
    ") \n",
    "eraser"
   ]
  },
  {
   "cell_type": "code",
   "execution_count": 7,
   "metadata": {},
   "outputs": [
    {
     "data": {
      "application/vnd.jupyter.widget-view+json": {
       "model_id": "42ccf3dbb26449df952975d1420429f4",
       "version_major": 2,
       "version_minor": 0
      },
      "text/plain": [
       "RadioButtons(description='Seperator', options=(';', ',', ''), value=';')"
      ]
     },
     "execution_count": 7,
     "metadata": {},
     "output_type": "execute_result"
    }
   ],
   "source": [
    "#radiobutton widgets\n",
    "delim=widgets.RadioButtons(\n",
    "    options=[\";\",\",\",\"\"],\n",
    "    disabled=False,\n",
    "    description=\"Seperator\",\n",
    "\n",
    ")\n",
    "delim"
   ]
  },
  {
   "cell_type": "code",
   "execution_count": 8,
   "metadata": {},
   "outputs": [
    {
     "data": {
      "application/vnd.jupyter.widget-view+json": {
       "model_id": "0ee7a7f531e846a9a006d5fd5ed7e195",
       "version_major": 2,
       "version_minor": 0
      },
      "text/plain": [
       "IntSlider(value=0, description='of lines:')"
      ]
     },
     "execution_count": 8,
     "metadata": {},
     "output_type": "execute_result"
    }
   ],
   "source": [
    "#intslider kaydırma\n",
    "rows=widgets.IntSlider(\n",
    "    value=0,\n",
    "    step=1,\n",
    "    description=\"of lines:\",\n",
    "    disabled=False,\n",
    "    orientation=\"horizontal\", # Kaydırma çubuğunun yatay (\"horizontal\") veya dikey (\"vertical\") \n",
    "    readout=True, #çubuğun değerinin gösterilmesi\n",
    "    readout_format=\"d\" #tam sayı formatı\n",
    ")\n",
    "rows"
   ]
  },
  {
   "cell_type": "code",
   "execution_count": 9,
   "metadata": {},
   "outputs": [
    {
     "data": {
      "application/vnd.jupyter.widget-view+json": {
       "model_id": "d78f7fc91cf342d68de5242127ee72eb",
       "version_major": 2,
       "version_minor": 0
      },
      "text/plain": [
       "Accordion(children=(FileUpload(value=(), description='Upload'), RadioButtons(description='Seperator', options=…"
      ]
     },
     "execution_count": 9,
     "metadata": {},
     "output_type": "execute_result"
    }
   ],
   "source": [
    "#accordion widgets\n",
    "accordion=widgets.Accordion()\n",
    "accordion.children=[up,delim,rows]\n",
    "accordion.set_title(0,\"File Selection\")\n",
    "accordion.set_title(1,\"Delimeter\")\n",
    "accordion.set_title(2,\"Skip Rows\")\n",
    "accordion"
   ]
  },
  {
   "cell_type": "code",
   "execution_count": 10,
   "metadata": {},
   "outputs": [
    {
     "data": {
      "application/vnd.jupyter.widget-view+json": {
       "model_id": "2f5f951c123a48f8814e1137497298a0",
       "version_major": 2,
       "version_minor": 0
      },
      "text/plain": [
       "Button(button_style='info', description='Preview', icon='search', style=ButtonStyle(), tooltip='Clic to Previe…"
      ]
     },
     "execution_count": 10,
     "metadata": {},
     "output_type": "execute_result"
    }
   ],
   "source": [
    "#button widgets\n",
    "button_upload=widgets.Button(\n",
    "    enabled=False,\n",
    "    button_style=\"warning\", #buton türü info,danger,success\n",
    "    icon=\"warning\", #sembol\n",
    "    tooltip=\"Clic to Upload\", #üstüne geline yazan\n",
    "    description=\"Upload\" #tanım\n",
    ")\n",
    "button_preview=widgets.Button(\n",
    "    description=\"Preview\",\n",
    "    enabled=False,\n",
    "    button_style=\"info\",\n",
    "    tooltip=\"Clic to Preview\",\n",
    "    icon=\"search\"\n",
    ")\n",
    "button_upload\n",
    "button_preview"
   ]
  },
  {
   "cell_type": "code",
   "execution_count": 11,
   "metadata": {},
   "outputs": [
    {
     "data": {
      "application/vnd.jupyter.widget-view+json": {
       "model_id": "3c07b53de1ea47d58df40d1d902651d2",
       "version_major": 2,
       "version_minor": 0
      },
      "text/plain": [
       "Button(button_style='danger', description='Plot', icon='pencil', style=ButtonStyle(), tooltip='Click to Plot')"
      ]
     },
     "execution_count": 11,
     "metadata": {},
     "output_type": "execute_result"
    }
   ],
   "source": [
    "button_plot=widgets.Button(\n",
    "    disabled=False,\n",
    "    button_style=\"danger\",\n",
    "    icon=\"pencil\",\n",
    "    description=\"Plot\",\n",
    "    tooltip=\"Click to Plot\"\n",
    ")\n",
    "button_plot"
   ]
  },
  {
   "cell_type": "code",
   "execution_count": 12,
   "metadata": {},
   "outputs": [
    {
     "data": {
      "application/vnd.jupyter.widget-view+json": {
       "model_id": "f00bb1dd1dd9417a955546880783245b",
       "version_major": 2,
       "version_minor": 0
      },
      "text/plain": [
       "VBox(children=(SelectMultiple(description='Eraser', index=(0,), options=('tab', '\"'), value=('tab',)), RadioBu…"
      ]
     },
     "execution_count": 12,
     "metadata": {},
     "output_type": "execute_result"
    }
   ],
   "source": [
    "#groupping HBox yatay - Vbox dikey gruplama \n",
    "vb=widgets.VBox([eraser,delim])\n",
    "vb"
   ]
  },
  {
   "cell_type": "code",
   "execution_count": 13,
   "metadata": {},
   "outputs": [
    {
     "data": {
      "application/vnd.jupyter.widget-view+json": {
       "model_id": "3b4d3c73ed594c3ebbf5ce323b341c56",
       "version_major": 2,
       "version_minor": 0
      },
      "text/plain": [
       "HBox(children=(RadioButtons(description='Seperator', options=(';', ',', ''), value=';'), SelectMultiple(descri…"
      ]
     },
     "execution_count": 13,
     "metadata": {},
     "output_type": "execute_result"
    }
   ],
   "source": [
    "hb=widgets.HBox([delim,eraser])\n",
    "hb"
   ]
  },
  {
   "cell_type": "code",
   "execution_count": 14,
   "metadata": {},
   "outputs": [
    {
     "data": {
      "application/vnd.jupyter.widget-view+json": {
       "model_id": "1a22d4b5ee3f4423b9716c431c83d4e7",
       "version_major": 2,
       "version_minor": 0
      },
      "text/plain": [
       "VBox(children=(Accordion(children=(FileUpload(value=(), description='Upload'), VBox(children=(RadioButtons(des…"
      ]
     },
     "execution_count": 14,
     "metadata": {},
     "output_type": "execute_result"
    }
   ],
   "source": [
    "accordion.children=[\n",
    "    up,\n",
    "    widgets.VBox([delim,eraser]),\n",
    "    rows]\n",
    "\n",
    "accordion_box=widgets.VBox([accordion,widgets.HBox([button_upload,button_preview]),out])\n",
    "accordion_box\n"
   ]
  },
  {
   "cell_type": "code",
   "execution_count": 15,
   "metadata": {},
   "outputs": [
    {
     "data": {
      "application/vnd.jupyter.widget-view+json": {
       "model_id": "6dcd0f43e0fb4ef7b9056a9d0c7156fb",
       "version_major": 2,
       "version_minor": 0
      },
      "text/plain": [
       "ToggleButtons(button_style='warning', description='Options:', icons=('search', 'info', 'tachometer'), options=…"
      ]
     },
     "execution_count": 15,
     "metadata": {},
     "output_type": "execute_result"
    }
   ],
   "source": [
    "#toggle buttons bir buton çalışır diğerleri deactive olur(radiobutton misali)\n",
    "toggle=widgets.ToggleButtons(\n",
    "    options=[\"Preview \",\"Info \",\"Stats \"],\n",
    "    description=\"Options:\",\n",
    "    disabled=False,\n",
    "    button_style=\"warning\",\n",
    "    icons=[\"search\",\"info\",\"tachometer\"]\n",
    ")\n",
    "toggle\n"
   ]
  },
  {
   "cell_type": "code",
   "execution_count": 16,
   "metadata": {},
   "outputs": [
    {
     "data": {
      "application/vnd.jupyter.widget-view+json": {
       "model_id": "3e45ed3476f04aff8c57809162c76ae5",
       "version_major": 2,
       "version_minor": 0
      },
      "text/plain": [
       "Dropdown(description='Chart Type:', options=('Bar Chart', 'Line Chart'), value='Bar Chart')"
      ]
     },
     "execution_count": 16,
     "metadata": {},
     "output_type": "execute_result"
    }
   ],
   "source": [
    "#dropwdown widgets\n",
    "x_axis=widgets.Dropdown(\n",
    "    options=[\"\"],\n",
    "    value=\"\",\n",
    "    description=\"X-Axis\",\n",
    "    disabled=False\n",
    ")\n",
    "y_axis = widgets.Dropdown(\n",
    "    options=[\"\"],\n",
    "    value=\"\",\n",
    "    description=\"Y-Axis\",\n",
    "    disabled=False\n",
    ")\n",
    "\n",
    "\n",
    "graph_type=widgets.Dropdown(\n",
    "    options=[\"Bar Chart\",\"Line Chart\"],\n",
    "    description=\"Chart Type:\",\n",
    "    disabled=False,\n",
    "    value=\"Bar Chart\"\n",
    ")\n",
    "graph_type"
   ]
  },
  {
   "cell_type": "code",
   "execution_count": 17,
   "metadata": {},
   "outputs": [
    {
     "data": {
      "application/vnd.jupyter.widget-view+json": {
       "model_id": "6263cd9bdb8849f0b90b93ff7f0aa61f",
       "version_major": 2,
       "version_minor": 0
      },
      "text/plain": [
       "ColorPicker(value='red', description='Color Picker')"
      ]
     },
     "execution_count": 17,
     "metadata": {},
     "output_type": "execute_result"
    }
   ],
   "source": [
    "#color picker \n",
    "color_picker=widgets.ColorPicker(\n",
    "    concise=False,# Renk seçimi modunu belirleyen bir boolean değer. False olarak ayarlanırsa, kullanıcı renk seçmek için bir renk paleti görecektir. True olarak ayarlanırsa, kullanıcı renk seçmek için bir renk kodunu (RGB veya HEX) yazabilir.x\n",
    "    description=\"Color Picker\",\n",
    "    value=\"red\",\n",
    "    disabled=False\n",
    ")\n",
    "color_picker\n"
   ]
  },
  {
   "cell_type": "code",
   "execution_count": 18,
   "metadata": {},
   "outputs": [
    {
     "data": {
      "application/vnd.jupyter.widget-view+json": {
       "model_id": "3de5d756fb83471c97e0ad3a401f860d",
       "version_major": 2,
       "version_minor": 0
      },
      "text/plain": [
       "Tab(children=(VBox(children=(Accordion(children=(FileUpload(value=(), description='Upload'), VBox(children=(Ra…"
      ]
     },
     "execution_count": 18,
     "metadata": {},
     "output_type": "execute_result"
    }
   ],
   "source": [
    "children= [\n",
    "    accordion_box,\n",
    "    widgets.VBox([toggle,out]),\n",
    "    widgets.HBox([\n",
    "        widgets.HBox([graph_type,color_picker]),\n",
    "        widgets.HBox([x_axis,y_axis]),\n",
    "        button_plot,\n",
    "        out\n",
    "    ])]\n",
    "tab.children=children\n",
    "tab"
   ]
  },
  {
   "cell_type": "code",
   "execution_count": 19,
   "metadata": {},
   "outputs": [],
   "source": [
    "#Value import #with ifadesi kullanıldığında, belirli bir nesnenin belirli bir eylem veya işlem süresi boyunca otomatik olarak başlatılmasını ve kapatılmasını sağlar\n",
    "def content_parser():\n",
    "    if up.value=={} :\n",
    "        with out:\n",
    "            print(\"No CSV loaded\")\n",
    "    else:\n",
    "        typ, content= \"\",\"\"\n",
    "        up_value=up.value\n",
    "        for i in range(len(up_value)):\n",
    "            typ=up_value[i][\"metadata\"][\"type\"]   # up_value sözlüğündeki i anahtarının altındaki \"metadata\" anahtarının altındaki \"type\" anahtarının değerine atanır    \n",
    "\n",
    "        if typ==\"text/csv\":\n",
    "            content=up_value[i][\"content\"]\n",
    "            content_str=str(content,\"utf-8\")  #i anahtarının altındaki content değeri alınıp string türkçe karakter olararak dönüştü.içerik türkçe karakter oldu\n",
    "\n",
    "            if eraser.value != {}:\n",
    "                for val in eraser.value:\n",
    "                    if val==\"tab\":\n",
    "                        content_str=content_str.replace(\"\\t\",\"\")\n",
    "                    else:\n",
    "                        content_str=content_str.replace(val,\"\")    \n",
    "            if content_str!=\"\":                                 #StringIO sınıfını kullanarak bir StringIO nesnesi oluşturur. StringIO, bir karakter dizisini bellekteki dosya gibi işleme imkanı sağlar.\n",
    "                str_io=StringIO(content_str)\n",
    "                return str_io          \n",
    "\n",
    "def df_converter():\n",
    "    content=content_parser()\n",
    "    if content is not None:\n",
    "        df=pd.read_csv(content, sep=delim.value , index_col=False ,skiprows=rows.value)\n",
    "        return df   \n",
    "    else:\n",
    "        return None    #content_parser fonksiyonu ile alınan bir CSV içeriğini okuyarak, belirtilen ayarlara göre bir pandas DataFrame'ine dönüştürüyor\n"
   ]
  },
  {
   "cell_type": "code",
   "execution_count": 20,
   "metadata": {},
   "outputs": [
    {
     "data": {
      "application/vnd.jupyter.widget-view+json": {
       "model_id": "3de5d756fb83471c97e0ad3a401f860d",
       "version_major": 2,
       "version_minor": 0
      },
      "text/plain": [
       "Tab(children=(VBox(children=(Accordion(children=(FileUpload(value=(), description='Upload'), VBox(children=(Ra…"
      ]
     },
     "execution_count": 20,
     "metadata": {},
     "output_type": "execute_result"
    }
   ],
   "source": [
    "tab"
   ]
  },
  {
   "cell_type": "code",
   "execution_count": 21,
   "metadata": {},
   "outputs": [],
   "source": [
    "df_converter()"
   ]
  },
  {
   "cell_type": "code",
   "execution_count": 22,
   "metadata": {},
   "outputs": [],
   "source": [
    "def preview():\n",
    "    df=df_converter()\n",
    "    with out:\n",
    "        out.clear_output()\n",
    "        print(\"\\n----Now this is how your DF looks like----\\n  \")\n",
    "        if df is not None:\n",
    "            print(df.head(10))\n",
    "        else:\n",
    "            print(\"Configuration is wrong/missing....\")        "
   ]
  },
  {
   "cell_type": "code",
   "execution_count": 23,
   "metadata": {},
   "outputs": [],
   "source": [
    "def preview_clicked(b):\n",
    "    preview()\n",
    "\n",
    "button_preview.on_click(preview_clicked)"
   ]
  },
  {
   "cell_type": "code",
   "execution_count": 25,
   "metadata": {},
   "outputs": [],
   "source": [
    "def upload_click():\n",
    "    df=df_converter()\n",
    "    with out:\n",
    "        out.clear_output()\n",
    "        print(\"\\n----Now this is how your DF looks like----\\n  \")\n",
    "        if df is not None:\n",
    "            print(df)\n",
    "            x_axis.options=df.columns\n",
    "            y_axis.options=df.columns\n",
    "        else:\n",
    "            print(\"Configuration is wrong/missing....\")    \n"
   ]
  },
  {
   "cell_type": "code",
   "execution_count": 26,
   "metadata": {},
   "outputs": [],
   "source": [
    "def desc():                #Eğer info_level \"Info\" ise, df.info(verbose=True) ifadesiyle veri çerçevesinin bilgilerini görüntüler. Bu ifade, df veri çerçevesinin detaylı bilgilerini (info() metoduyla) çıktı olarak görüntüler ve verbose=True parametresiyle ayrıntılı bir çıktı elde eder.\n",
    "    info_level=toggle.value\n",
    "    if info_level!={}:\n",
    "        df=df_converter()\n",
    "        with out:\n",
    "            out.clear_output()\n",
    "            print(info_level)\n",
    "        if df is not None:\n",
    "            if info_level == \"Info\":\n",
    "                print(df.info(verbose=True))    \n",
    "            elif info_level ==\"Stats\":\n",
    "                print(df.describe()) \n",
    "            elif info_level==\"Preview\":\n",
    "                print(df.head(5))\n",
    "\n",
    "        else:\n",
    "            print(\"Configuration is wrong/missing....\")                     "
   ]
  }
 ],
 "metadata": {
  "kernelspec": {
   "display_name": "Python 3",
   "language": "python",
   "name": "python3"
  },
  "language_info": {
   "codemirror_mode": {
    "name": "ipython",
    "version": 3
   },
   "file_extension": ".py",
   "mimetype": "text/x-python",
   "name": "python",
   "nbconvert_exporter": "python",
   "pygments_lexer": "ipython3",
   "version": "3.11.2"
  },
  "orig_nbformat": 4
 },
 "nbformat": 4,
 "nbformat_minor": 2
}
